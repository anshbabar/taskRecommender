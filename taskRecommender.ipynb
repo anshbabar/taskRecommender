{
  "nbformat": 4,
  "nbformat_minor": 0,
  "metadata": {
    "colab": {
      "provenance": []
    },
    "kernelspec": {
      "name": "python3",
      "display_name": "Python 3"
    },
    "language_info": {
      "name": "python"
    }
  },
  "cells": [
    {
      "cell_type": "code",
      "execution_count": 3,
      "metadata": {
        "colab": {
          "base_uri": "https://localhost:8080/"
        },
        "id": "7lirENhJFYSY",
        "outputId": "3ab4b3d7-55fd-42fc-bac9-da90e82a166c"
      },
      "outputs": [
        {
          "output_type": "stream",
          "name": "stdout",
          "text": [
            "Enter your current mood: energetic\n",
            "Recommended activities:\n",
            "- cook a meal\n",
            "- go for a hike\n",
            "- play a sport\n"
          ]
        }
      ],
      "source": [
        "import pandas as pd\n",
        "from sklearn.feature_extraction.text import TfidfVectorizer\n",
        "from sklearn.linear_model import LogisticRegression\n",
        "from sklearn.model_selection import train_test_split\n",
        "\n",
        "# Data\n",
        "dataset = pd.DataFrame({'activity': ['go for a walk', 'watch a movie', 'read a book', 'cook a meal', 'listen to music',\n",
        "                                     'go for a hike', 'paint a picture', 'play a sport', 'visit a museum', 'have a picnic',\n",
        "                                     'go shopping', 'visit a friend', 'do yoga', 'try a new recipe', 'attend a concert'],\n",
        "                        'mood': ['relaxed', 'happy', 'relaxed', 'energetic', 'sad',\n",
        "                                 'energetic', 'creative', 'energetic', 'curious', 'relaxed',\n",
        "                                 'excited', 'social', 'relaxed', 'creative', 'excited']})\n",
        "\n",
        "\n",
        "# Feature Extraction\n",
        "vectorizer = TfidfVectorizer()\n",
        "X = vectorizer.fit_transform(dataset['activity'])\n",
        "y = dataset['mood']\n",
        "\n",
        "# Training the Model\n",
        "X_train, X_test, y_train, y_test = train_test_split(X, y, test_size=0.2, random_state=42)\n",
        "\n",
        "model = LogisticRegression()\n",
        "model.fit(X_train, y_train)\n",
        "\n",
        "def recommend_activity(mood):\n",
        "    # Preprocessing user input\n",
        "    X_user = vectorizer.transform([mood])\n",
        "    # Predicting mood based on user input\n",
        "    predicted_mood = model.predict(X_user)[0]\n",
        "    # Filtering activities based on predicted mood\n",
        "    recommended_activities = dataset[dataset['mood'] == predicted_mood]['activity']\n",
        "\n",
        "    return recommended_activities\n",
        "\n",
        "user_mood = input(\"Enter your current mood: \")\n",
        "recommended_activities = recommend_activity(user_mood)\n",
        "\n",
        "if recommended_activities.empty:\n",
        "    print(\"Sorry, no activities found for your current mood.\")\n",
        "else:\n",
        "    print(\"Recommended activities:\")\n",
        "    for activity in recommended_activities:\n",
        "        print(\"- \" + activity)\n"
      ]
    }
  ]
}